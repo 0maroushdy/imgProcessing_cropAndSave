{
 "cells": [
  {
   "cell_type": "code",
   "execution_count": 1,
   "metadata": {},
   "outputs": [
    {
     "name": "stderr",
     "output_type": "stream",
     "text": [
      "[ WARN:0@0.347] global loadsave.cpp:241 findDecoder imread_('resrc/bunny.jpeg'): can't open/read file: check file path/integrity\n"
     ]
    },
    {
     "ename": "AttributeError",
     "evalue": "'NoneType' object has no attribute 'copy'",
     "output_type": "error",
     "traceback": [
      "\u001b[0;31m---------------------------------------------------------------------------\u001b[0m",
      "\u001b[0;31mAttributeError\u001b[0m                            Traceback (most recent call last)",
      "Cell \u001b[0;32mIn[1], line 37\u001b[0m\n\u001b[1;32m     35\u001b[0m imagePath \u001b[38;5;241m=\u001b[39m \u001b[38;5;124m'\u001b[39m\u001b[38;5;124mresrc/bunny.jpeg\u001b[39m\u001b[38;5;124m'\u001b[39m  \n\u001b[1;32m     36\u001b[0m theImg \u001b[38;5;241m=\u001b[39m cv2\u001b[38;5;241m.\u001b[39mimread(imagePath)\n\u001b[0;32m---> 37\u001b[0m image \u001b[38;5;241m=\u001b[39m \u001b[43mtheImg\u001b[49m\u001b[38;5;241;43m.\u001b[39;49m\u001b[43mcopy\u001b[49m()\n\u001b[1;32m     39\u001b[0m \u001b[38;5;66;03m#-------- ** setting the prog window ** -----------------\u001b[39;00m\n\u001b[1;32m     40\u001b[0m cv2\u001b[38;5;241m.\u001b[39mnamedWindow(\u001b[38;5;124m'\u001b[39m\u001b[38;5;124mImage\u001b[39m\u001b[38;5;124m'\u001b[39m)\n",
      "\u001b[0;31mAttributeError\u001b[0m: 'NoneType' object has no attribute 'copy'"
     ]
    }
   ],
   "source": [
    "import cv2\n",
    "import numpy as np\n",
    "import matplotlib.pyplot as plt\n",
    "\n",
    "# ----------------- <<< Task 1 >>> -----------------\n",
    "point1 = None\n",
    "point2 = None\n",
    "\n",
    "\n",
    "def getPoints(event, x, y, flags, param):\n",
    "    global point1, point2, image\n",
    "\n",
    "    if event == cv2.EVENT_LBUTTONDOWN:\n",
    "        if point1 is None:\n",
    "            # 1st Point ----------------------------------\n",
    "            point1 = (x, y)\n",
    "            print(f\"Point 1: {point1}\")\n",
    "        elif point2 is None:\n",
    "            # 2nd Point ----------------------------------\n",
    "            point2 = (x, y)\n",
    "            print(f\"Point 2: {point2}\")\n",
    "\n",
    "            # Drawing a rect containgin the cropped area ---\n",
    "            cv2.rectangle(image, point1, point2, (255, 0, 0), 2)\n",
    "            cv2.imshow('Image', image)\n",
    "\n",
    "            # Crop and save --------------------------------\n",
    "            x1, y1 = min(point1[0], point2[0]), min(point1[1], point2[1])\n",
    "            x2, y2 = max(point1[0], point2[0]), max(point1[1], point2[1])\n",
    "            croppedImage = theImg[y1:y2, x1:x2]\n",
    "            cv2.imwrite(\"croppedImage.jpg\", croppedImage)\n",
    "            print(\"Cropped image saved as 'croppedImage.jpg'\")\n",
    "\n",
    "#-------- ** Load the image ** -----------------\n",
    "imagePath = 'resrc/bunny.jpeg'  \n",
    "theImg = cv2.imread(imagePath)\n",
    "image = theImg.copy()\n",
    "\n",
    "#-------- ** setting the prog window ** -----------------\n",
    "cv2.namedWindow('Image')\n",
    "cv2.setMouseCallback('Image', getPoints)\n",
    "\n",
    "#-------- ** Main running ** -----------------\n",
    "while True:\n",
    "    cv2.imshow('Image', image)\n",
    "    key = cv2.waitKey(1)\n",
    "    if key == 27:  # Exit when 'ESC' \n",
    "        break\n",
    "\n",
    "cv2.destroyAllWindows()\n"
   ]
  }
 ],
 "metadata": {
  "kernelspec": {
   "display_name": "Python 3",
   "language": "python",
   "name": "python3"
  },
  "language_info": {
   "codemirror_mode": {
    "name": "ipython",
    "version": 3
   },
   "file_extension": ".py",
   "mimetype": "text/x-python",
   "name": "python",
   "nbconvert_exporter": "python",
   "pygments_lexer": "ipython3",
   "version": "3.10.12"
  }
 },
 "nbformat": 4,
 "nbformat_minor": 2
}
