{
 "cells": [
  {
   "cell_type": "code",
   "execution_count": 2,
   "metadata": {},
   "outputs": [
    {
     "name": "stdout",
     "output_type": "stream",
     "text": [
      "Clicked Color = [6, 40, 247]\n",
      "Lower Bound = [  0  20 227], Upper Bound: [ 26  60 255]\n"
     ]
    }
   ],
   "source": [
    "import cv2\n",
    "import numpy as np\n",
    "import matplotlib.pyplot as plt\n",
    "from tkinter import Tk\n",
    "from tkinter.filedialog import askopenfilename\n",
    "\n",
    "# ----------------- <<< Task 1 >>> -----------------\n",
    "def extract_color(event, x, y, flags, param):\n",
    "    if event == cv2.EVENT_LBUTTONDOWN:\n",
    "        \n",
    "        clicked_color = image[y, x].tolist()\n",
    "        print(f\"Clicked Color = {clicked_color}\")\n",
    "\n",
    "        # bounds ---------------------\n",
    "        lower_bound = np.maximum(0, np.array(clicked_color) - 20)\n",
    "        upper_bound = np.minimum(255, np.array(clicked_color) + 20)\n",
    "        print(f\"Lower Bound = {lower_bound}, Upper Bound: {upper_bound}\")\n",
    "\n",
    "        # Mask -------------------------------------\n",
    "        mask = cv2.inRange(image, lower_bound, upper_bound)\n",
    "        rs = cv2.bitwise_and(image, image, mask=mask)\n",
    "        cv2.imshow(\"Mask\", mask)\n",
    "        cv2.imshow(\"The Extracted Color\", rs)\n",
    "\n",
    "        theColor = np.zeros((500, 500, 3), dtype=np.uint8)\n",
    "        theColor[:] = clicked_color\n",
    "        cv2.imshow(\"Solid Color\", theColor)\n",
    "\n",
    "# ------- ** File chooser ** -------------\n",
    "def choose_file():\n",
    "    root = Tk()\n",
    "    file_path = askopenfilename( title=\"Select an Image File\",filetypes=[(\"All Files\", \"*.*\")] )\n",
    "    root.destroy()\n",
    "    return file_path\n",
    "\n",
    "file_path = choose_file()\n",
    "if not file_path:\n",
    "    print(\"No file selected !!\")\n",
    "    exit()\n",
    "\n",
    "# Load -----------------------------------\n",
    "image = cv2.imread(file_path)\n",
    "if image is None:\n",
    "    print(\"Failed to load the img\")\n",
    "    exit()\n",
    "\n",
    "# OutPut C -----------------------------------\n",
    "cv2.namedWindow('Image')\n",
    "cv2.setMouseCallback('Image', extract_color)\n",
    "\n",
    "while True:\n",
    "    cv2.imshow('Image', image)\n",
    "    key = cv2.waitKey(1)\n",
    "    if key == 27:  # Exit --> 'ESC' \n",
    "        break\n",
    "\n",
    "cv2.destroyAllWindows()\n"
   ]
  }
 ],
 "metadata": {
  "kernelspec": {
   "display_name": "Python 3",
   "language": "python",
   "name": "python3"
  },
  "language_info": {
   "codemirror_mode": {
    "name": "ipython",
    "version": 3
   },
   "file_extension": ".py",
   "mimetype": "text/x-python",
   "name": "python",
   "nbconvert_exporter": "python",
   "pygments_lexer": "ipython3",
   "version": "3.10.12"
  }
 },
 "nbformat": 4,
 "nbformat_minor": 2
}
