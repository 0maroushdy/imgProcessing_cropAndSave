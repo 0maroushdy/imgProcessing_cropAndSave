{
 "cells": [
  {
   "cell_type": "code",
   "execution_count": null,
   "metadata": {},
   "outputs": [
    {
     "ename": "TypeError",
     "evalue": "crop_image() missing 5 required positional arguments: 'event', 'x', 'y', 'flags', and 'param'",
     "output_type": "error",
     "traceback": [
      "\u001b[0;31m---------------------------------------------------------------------------\u001b[0m",
      "\u001b[0;31mTypeError\u001b[0m                                 Traceback (most recent call last)",
      "Cell \u001b[0;32mIn[1], line 36\u001b[0m\n\u001b[1;32m     33\u001b[0m         \u001b[38;5;28mprint\u001b[39m(\u001b[38;5;124m\"\u001b[39m\u001b[38;5;124mCropped image saved as \u001b[39m\u001b[38;5;124m'\u001b[39m\u001b[38;5;124mcropped_image.jpg\u001b[39m\u001b[38;5;124m'\u001b[39m\u001b[38;5;124m\"\u001b[39m)\n\u001b[1;32m     35\u001b[0m cv2\u001b[38;5;241m.\u001b[39mnamedWindow(\u001b[38;5;124m\"\u001b[39m\u001b[38;5;124mCrop Image\u001b[39m\u001b[38;5;124m\"\u001b[39m)\n\u001b[0;32m---> 36\u001b[0m cv2\u001b[38;5;241m.\u001b[39msetMouseCallback(\u001b[38;5;124m\"\u001b[39m\u001b[38;5;124mCrop Image\u001b[39m\u001b[38;5;124m\"\u001b[39m, \u001b[43mcrop_image\u001b[49m\u001b[43m(\u001b[49m\u001b[43m)\u001b[49m)\n\u001b[1;32m     37\u001b[0m cv2\u001b[38;5;241m.\u001b[39mimshow(\u001b[38;5;124m\"\u001b[39m\u001b[38;5;124mCrop Image\u001b[39m\u001b[38;5;124m\"\u001b[39m, image)\n\u001b[1;32m     38\u001b[0m cv2\u001b[38;5;241m.\u001b[39mwaitKey(\u001b[38;5;241m0\u001b[39m)\n",
      "\u001b[0;31mTypeError\u001b[0m: crop_image() missing 5 required positional arguments: 'event', 'x', 'y', 'flags', and 'param'"
     ]
    }
   ],
   "source": [
    "import cv2\n",
    "import numpy as np\n",
    "\n",
    "cropping = False\n",
    "start_point = (-1, -1)\n",
    "end_point = (-1, -1)\n",
    "image = cv2.imread('resrc/bunny.jpeg') \n",
    "clone = image.copy()\n",
    "\n",
    "def crop_image(event, x, y, flags, param):\n",
    "    global cropping, start_point, end_point, clone\n",
    "    \n",
    "    if event == cv2.EVENT_LBUTTONDOWN:\n",
    "        cropping = True\n",
    "        start_point = (x, y)\n",
    "    \n",
    "    elif event == cv2.EVENT_MOUSEMOVE and cropping:\n",
    "        end_point = (x, y)\n",
    "        temp = clone.copy()\n",
    "        cv2.rectangle(temp, start_point, end_point, (0, 255, 0), 2)\n",
    "        cv2.imshow(\"Crop Image\", temp)\n",
    "    \n",
    "    elif event == cv2.EVENT_LBUTTONUP:\n",
    "        cropping = False\n",
    "        end_point = (x, y)\n",
    "        cv2.rectangle(clone, start_point, end_point, (0, 255, 0), 2)\n",
    "        cv2.imshow(\"Crop Image\", clone)\n",
    "        \n",
    "        x1, y1 = min(start_point[0], end_point[0]), min(start_point[1], end_point[1])\n",
    "        x2, y2 = max(start_point[0], end_point[0]), max(start_point[1], end_point[1])\n",
    "        cropped = image[y1:y2, x1:x2]\n",
    "        cv2.imwrite(\"cropped_image.jpg\", cropped)\n",
    "        print(\"Cropped image saved as 'cropped_image.jpg'\")\n",
    "\n",
    "cv2.namedWindow(\"Crop Image\")\n",
    "#cv2.setMouseCallback(\"Crop Image\", crop_image())\n",
    "cv2.imshow(\"Crop Image\", image)\n",
    "cv2.waitKey(0)\n",
    "cv2.destroyAllWindows()"
   ]
  }
 ],
 "metadata": {
  "kernelspec": {
   "display_name": "Python 3",
   "language": "python",
   "name": "python3"
  },
  "language_info": {
   "codemirror_mode": {
    "name": "ipython",
    "version": 3
   },
   "file_extension": ".py",
   "mimetype": "text/x-python",
   "name": "python",
   "nbconvert_exporter": "python",
   "pygments_lexer": "ipython3",
   "version": "3.10.12"
  }
 },
 "nbformat": 4,
 "nbformat_minor": 2
}
