{
 "cells": [
  {
   "cell_type": "code",
   "execution_count": null,
   "metadata": {},
   "outputs": [
    {
     "ename": "NameError",
     "evalue": "name 'cv2' is not defined",
     "output_type": "error",
     "traceback": [
      "\u001b[0;31m---------------------------------------------------------------------------\u001b[0m",
      "\u001b[0;31mNameError\u001b[0m                                 Traceback (most recent call last)",
      "Cell \u001b[0;32mIn[3], line 9\u001b[0m\n\u001b[1;32m      7\u001b[0m start_point \u001b[38;5;241m=\u001b[39m (\u001b[38;5;241m-\u001b[39m\u001b[38;5;241m1\u001b[39m, \u001b[38;5;241m-\u001b[39m\u001b[38;5;241m1\u001b[39m)\n\u001b[1;32m      8\u001b[0m end_point \u001b[38;5;241m=\u001b[39m (\u001b[38;5;241m-\u001b[39m\u001b[38;5;241m1\u001b[39m, \u001b[38;5;241m-\u001b[39m\u001b[38;5;241m1\u001b[39m)\n\u001b[0;32m----> 9\u001b[0m image \u001b[38;5;241m=\u001b[39m cv2\u001b[38;5;241m.\u001b[39mimread(\u001b[38;5;124m'\u001b[39m\u001b[38;5;124mresrc/bunny.jpeg\u001b[39m\u001b[38;5;124m'\u001b[39m) \n\u001b[1;32m     10\u001b[0m clone \u001b[38;5;241m=\u001b[39m image\u001b[38;5;241m.\u001b[39mcopy()\n\u001b[1;32m     12\u001b[0m \u001b[38;5;28;01mdef\u001b[39;00m \u001b[38;5;21mcrop_image\u001b[39m(event, x, y, flags, param):\n",
      "\u001b[0;31mNameError\u001b[0m: name 'cv2' is not defined"
     ]
    }
   ],
   "source": [
    "import numpy as np\n",
    "import matplotlib.pyplot as plt\n",
    "# import cv2\n",
    "\n",
    "\n",
    "cropping = False\n",
    "start_point = (-1, -1)\n",
    "end_point = (-1, -1)\n",
    "image = cv2.imread('resrc/bunny.jpeg') \n",
    "clone = image.copy()\n",
    "\n",
    "def crop_image(event, x, y, flags, param):\n",
    "    global cropping, start_point, end_point, clone\n",
    "    \n",
    "    if event == cv2.EVENT_LBUTTONDOWN:\n",
    "        cropping = True\n",
    "        start_point = (x, y)\n",
    "    \n",
    "    elif event == cv2.EVENT_MOUSEMOVE and cropping:\n",
    "        end_point = (x, y)\n",
    "        temp = clone.copy()\n",
    "        cv2.rectangle(temp, start_point, end_point, (0, 255, 0), 2)\n",
    "        cv2.imshow(\"Crop Image\", temp)\n",
    "    \n",
    "    elif event == cv2.EVENT_LBUTTONUP:\n",
    "        cropping = Falsev2\n",
    "        end_point = (x, y)\n",
    "        cv2.rectangle(clone, start_point, end_point, (0, 255, 0), 2)\n",
    "        cv2.imshow(\"Crop Image\", clone)\n",
    "        \n",
    "        x1, y1 = min(start_point[0], end_point[0]), min(start_point[1], end_point[1])\n",
    "        x2, y2 = max(start_point[0], end_point[0]), max(start_point[1], end_point[1])\n",
    "        cropped = image[y1:y2, x1:x2]\n",
    "        cv2.imwrite(\"cropped_image.jpg\", cropped)\n",
    "        print(\"Cropped image saved as 'cropped_image.jpg'\")\n",
    "\n",
    "cv2.namedWindow(\"Crop Image\")\n",
    "#cv2.setMouseCallback(\"Crop Image\", crop_image())\n",
    "cv2.imshow(\"Crop Image\", image)\n",
    "cv2.waitKey(0)\n",
    "cv2.destroyAllWindows()"
   ]
  }
 ],
 "metadata": {
  "kernelspec": {
   "display_name": "base",
   "language": "python",
   "name": "python3"
  },
  "language_info": {
   "codemirror_mode": {
    "name": "ipython",
    "version": 3
   },
   "file_extension": ".py",
   "mimetype": "text/x-python",
   "name": "python",
   "nbconvert_exporter": "python",
   "pygments_lexer": "ipython3",
   "version": "3.12.7"
  }
 },
 "nbformat": 4,
 "nbformat_minor": 2
}
