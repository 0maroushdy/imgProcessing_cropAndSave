{
 "cells": [
  {
   "cell_type": "code",
   "execution_count": null,
   "metadata": {},
   "outputs": [
    {
     "name": "stdout",
     "output_type": "stream",
     "text": [
      "Point 1: (111, 307)\n",
      "Point 2: (628, 965)\n",
      "Cropped image saved as 'croppedImage.jpg'\n"
     ]
    }
   ],
   "source": [
    "import cv2\n",
    "import numpy as np\n",
    "import matplotlib.pyplot as plt\n",
    "\n",
    "# ----------------- <<< Task 1 >>> -----------------\n",
    "point1 = None\n",
    "point2 = None\n",
    "\n",
    "\n",
    "def getPoints(event, x, y, flags, param):\n",
    "    global point1, point2, image\n",
    "\n",
    "    if event == cv2.EVENT_LBUTTONDOWN:\n",
    "        if point1 is None:\n",
    "            # 1st Point ----------------------------------\n",
    "            point1 = (x, y)\n",
    "            print(f\"Point 1: {point1}\")\n",
    "        elif point2 is None:\n",
    "            # 2nd Point ----------------------------------\n",
    "            point2 = (x, y)\n",
    "            print(f\"Point 2: {point2}\")\n",
    "\n",
    "            # Drawing a rect containgin the cropped area ---\n",
    "            cv2.rectangle(image, point1, point2, (255, 0, 0), 2)\n",
    "            cv2.imshow('Image', image)\n",
    "\n",
    "            # Crop and save --------------------------------\n",
    "            x1, y1 = min(point1[0], point2[0]), min(point1[1], point2[1])\n",
    "            x2, y2 = max(point1[0], point2[0]), max(point1[1], point2[1])\n",
    "            croppedImage = theImg[y1:y2, x1:x2]\n",
    "            cv2.imwrite(\"croppedImage.jpg\", croppedImage)\n",
    "            print(\"Cropped image saved as 'croppedImage.jpg'\")\n",
    "\n",
    "#-------- ** Load the image ** -----------------\n",
    "imagePath = 'resrc/bunny.jpeg'  \n",
    "theImg = cv2.imread(imagePath)\n",
    "image = theImg.copy()\n",
    "\n",
    "#-------- ** setting the prog window ** -----------------\n",
    "cv2.namedWindow('Image')\n",
    "cv2.setMouseCallback('Image', getPoints)\n",
    "\n",
    "#-------- ** Main running ** -----------------\n",
    "while True:\n",
    "    cv2.imshow('Image', image)\n",
    "    key = cv2.waitKey(1)\n",
    "    if key == 27:  # Exit when 'ESC' \n",
    "        break\n",
    "\n",
    "cv2.destroyAllWindows()\n"
   ]
  }
 ],
 "metadata": {
  "kernelspec": {
   "display_name": "Python 3",
   "language": "python",
   "name": "python3"
  },
  "language_info": {
   "codemirror_mode": {
    "name": "ipython",
    "version": 3
   },
   "file_extension": ".py",
   "mimetype": "text/x-python",
   "name": "python",
   "nbconvert_exporter": "python",
   "pygments_lexer": "ipython3",
   "version": "3.10.12"
  }
 },
 "nbformat": 4,
 "nbformat_minor": 2
}
